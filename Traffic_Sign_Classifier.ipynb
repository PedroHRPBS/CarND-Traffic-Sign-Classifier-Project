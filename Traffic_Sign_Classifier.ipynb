{
 "cells": [
  {
   "cell_type": "markdown",
   "metadata": {},
   "source": [
    "# Self-Driving Car Engineer Nanodegree\n",
    "\n",
    "## Deep Learning\n",
    "\n",
    "## Project: Build a Traffic Sign Recognition Classifier\n",
    "\n",
    "In this notebook, a template is provided for you to implement your functionality in stages, which is required to successfully complete this project. If additional code is required that cannot be included in the notebook, be sure that the Python code is successfully imported and included in your submission if necessary. \n",
    "\n",
    "> **Note**: Once you have completed all of the code implementations, you need to finalize your work by exporting the iPython Notebook as an HTML document. Before exporting the notebook to html, all of the code cells need to have been run so that reviewers can see the final implementation and output. You can then export the notebook by using the menu above and navigating to  \\n\",\n",
    "    \"**File -> Download as -> HTML (.html)**. Include the finished document along with this notebook as your submission. \n",
    "\n",
    "In addition to implementing code, there is a writeup to complete. The writeup should be completed in a separate file, which can be either a markdown file or a pdf document. There is a [write up template](https://github.com/udacity/CarND-Traffic-Sign-Classifier-Project/blob/master/writeup_template.md) that can be used to guide the writing process. Completing the code template and writeup template will cover all of the [rubric points](https://review.udacity.com/#!/rubrics/481/view) for this project.\n",
    "\n",
    "The [rubric](https://review.udacity.com/#!/rubrics/481/view) contains \"Stand Out Suggestions\" for enhancing the project beyond the minimum requirements. The stand out suggestions are optional. If you decide to pursue the \"stand out suggestions\", you can include the code in this Ipython notebook and also discuss the results in the writeup file.\n",
    "\n",
    "\n",
    ">**Note:** Code and Markdown cells can be executed using the **Shift + Enter** keyboard shortcut. In addition, Markdown cells can be edited by typically double-clicking the cell to enter edit mode."
   ]
  },
  {
   "cell_type": "markdown",
   "metadata": {},
   "source": [
    "---\n",
    "## Step 0: Load The Data"
   ]
  },
  {
   "cell_type": "code",
   "execution_count": 1,
   "metadata": {},
   "outputs": [],
   "source": [
    "# Load pickled data\n",
    "import pickle\n",
    "\n",
    "# TODO: Fill this in based on where you saved the training and testing data\n",
    "\n",
    "training_file = \"traffic-signs-data/train.p\"\n",
    "validation_file= \"traffic-signs-data/valid.p\"\n",
    "testing_file = \"traffic-signs-data/test.p\"\n",
    "\n",
    "with open(training_file, mode='rb') as f:\n",
    "    train = pickle.load(f)\n",
    "with open(validation_file, mode='rb') as f:\n",
    "    valid = pickle.load(f)\n",
    "with open(testing_file, mode='rb') as f:\n",
    "    test = pickle.load(f)\n",
    "    \n",
    "X_train, y_train = train['features'], train['labels']\n",
    "X_valid, y_valid = valid['features'], valid['labels']\n",
    "X_test, y_test = test['features'], test['labels']"
   ]
  },
  {
   "cell_type": "markdown",
   "metadata": {},
   "source": [
    "---\n",
    "\n",
    "## Step 1: Dataset Summary & Exploration\n",
    "\n",
    "The pickled data is a dictionary with 4 key/value pairs:\n",
    "\n",
    "- `'features'` is a 4D array containing raw pixel data of the traffic sign images, (num examples, width, height, channels).\n",
    "- `'labels'` is a 1D array containing the label/class id of the traffic sign. The file `signnames.csv` contains id -> name mappings for each id.\n",
    "- `'sizes'` is a list containing tuples, (width, height) representing the original width and height the image.\n",
    "- `'coords'` is a list containing tuples, (x1, y1, x2, y2) representing coordinates of a bounding box around the sign in the image. **THESE COORDINATES ASSUME THE ORIGINAL IMAGE. THE PICKLED DATA CONTAINS RESIZED VERSIONS (32 by 32) OF THESE IMAGES**\n",
    "\n",
    "Complete the basic data summary below. Use python, numpy and/or pandas methods to calculate the data summary rather than hard coding the results. For example, the [pandas shape method](http://pandas.pydata.org/pandas-docs/stable/generated/pandas.DataFrame.shape.html) might be useful for calculating some of the summary results. "
   ]
  },
  {
   "cell_type": "markdown",
   "metadata": {},
   "source": [
    "### Provide a Basic Summary of the Data Set Using Python, Numpy and/or Pandas"
   ]
  },
  {
   "cell_type": "code",
   "execution_count": 2,
   "metadata": {},
   "outputs": [
    {
     "name": "stdout",
     "output_type": "stream",
     "text": [
      "Number of training examples = 34799\n",
      "Number of testing examples = 12630\n",
      "Image data shape = (32, 32, 3)\n",
      "Number of classes = 43\n"
     ]
    }
   ],
   "source": [
    "### Replace each question mark with the appropriate value. \n",
    "### Use python, pandas or numpy methods rather than hard coding the results\n",
    "import numpy as np\n",
    "# TODO: Number of training examples\n",
    "n_train = y_train.size\n",
    "\n",
    "# TODO: Number of validation examples\n",
    "n_validation = y_valid.size\n",
    "\n",
    "# TODO: Number of testing examples.\n",
    "n_test = y_test.size\n",
    "\n",
    "# TODO: What's the shape of an traffic sign image?\n",
    "image_shape = X_train[0].shape\n",
    "\n",
    "# TODO: How many unique classes/labels there are in the dataset.\n",
    "n_classes = np.unique(y_train).size\n",
    "\n",
    "print(\"Number of training examples =\", n_train)\n",
    "print(\"Number of testing examples =\", n_test)\n",
    "print(\"Image data shape =\", image_shape)\n",
    "print(\"Number of classes =\", n_classes)"
   ]
  },
  {
   "cell_type": "markdown",
   "metadata": {},
   "source": [
    "### Include an exploratory visualization of the dataset"
   ]
  },
  {
   "cell_type": "markdown",
   "metadata": {},
   "source": [
    "Visualize the German Traffic Signs Dataset using the pickled file(s). This is open ended, suggestions include: plotting traffic sign images, plotting the count of each sign, etc. \n",
    "\n",
    "The [Matplotlib](http://matplotlib.org/) [examples](http://matplotlib.org/examples/index.html) and [gallery](http://matplotlib.org/gallery.html) pages are a great resource for doing visualizations in Python.\n",
    "\n",
    "**NOTE:** It's recommended you start with something simple first. If you wish to do more, come back to it after you've completed the rest of the sections. It can be interesting to look at the distribution of classes in the training, validation and test set. Is the distribution the same? Are there more examples of some classes than others?"
   ]
  },
  {
   "cell_type": "code",
   "execution_count": 3,
   "metadata": {},
   "outputs": [
    {
     "name": "stdout",
     "output_type": "stream",
     "text": [
      "Image samples with labels:\n"
     ]
    },
    {
     "data": {
      "image/png": "[encoded data removed]",
      "text/plain": [
       "<Figure size 1080x432 with 5 Axes>"
      ]
     },
     "metadata": {},
     "output_type": "display_data"
    }
   ],
   "source": [
    "### Data exploration visualization code goes here.\n",
    "### Feel free to use as many code cells as needed.\n",
    "import matplotlib.pyplot as plt\n",
    "import random \n",
    "\n",
    "# Visualizations will be shown in the notebook.\n",
    "%matplotlib inline\n",
    "\n",
    "fig, axs = plt.subplots(1, 5, figsize = (15, 6))\n",
    "fig.subplots_adjust(wspace = .1)\n",
    "axs = axs.ravel()\n",
    "\n",
    "print(\"Image samples with labels:\")\n",
    "\n",
    "for i in range(5):\n",
    "    rand = random.randint(0, len(X_train))\n",
    "    axs[i].axis('off')\n",
    "    axs[i].imshow(X_train[rand])\n",
    "    axs[i].set_title(y_train[rand])"
   ]
  },
  {
   "cell_type": "code",
   "execution_count": 4,
   "metadata": {},
   "outputs": [
    {
     "data": {
      "image/png": "[encoded data removed]",
      "text/plain": [
       "<Figure size 432x288 with 1 Axes>"
      ]
     },
     "metadata": {},
     "output_type": "display_data"
    },
    {
     "data": {
      "image/png": "[encoded data removed]",
      "text/plain": [
       "<Figure size 432x288 with 1 Axes>"
      ]
     },
     "metadata": {},
     "output_type": "display_data"
    },
    {
     "data": {
      "image/png": "[encoded data removed]",
      "text/plain": [
       "<Figure size 432x288 with 1 Axes>"
      ]
     },
     "metadata": {},
     "output_type": "display_data"
    }
   ],
   "source": [
    "plt.hist(y_train, bins = n_classes, rwidth = 0.8)\n",
    "plt.title(\"Distribution of Classes in Training\")\n",
    "plt.show()\n",
    "\n",
    "plt.hist(y_valid, bins = n_classes, rwidth = 0.8)\n",
    "plt.title(\"Distribution of Classes in Validation\")\n",
    "plt.show()\n",
    "\n",
    "plt.hist(y_test, bins = n_classes, rwidth = 0.8)\n",
    "plt.title(\"Distribution of Classes in Testing\")\n",
    "plt.show()"
   ]
  },
  {
   "cell_type": "markdown",
   "metadata": {},
   "source": [
    "----\n",
    "\n",
    "## Step 2: Design and Test a Model Architecture\n",
    "\n",
    "Design and implement a deep learning model that learns to recognize traffic signs. Train and test your model on the [German Traffic Sign Dataset](http://benchmark.ini.rub.de/?section=gtsrb&subsection=dataset).\n",
    "\n",
    "The LeNet-5 implementation shown in the [classroom](https://classroom.udacity.com/nanodegrees/nd013/parts/fbf77062-5703-404e-b60c-95b78b2f3f9e/modules/6df7ae49-c61c-4bb2-a23e-6527e69209ec/lessons/601ae704-1035-4287-8b11-e2c2716217ad/concepts/d4aca031-508f-4e0b-b493-e7b706120f81) at the end of the CNN lesson is a solid starting point. You'll have to change the number of classes and possibly the preprocessing, but aside from that it's plug and play! \n",
    "\n",
    "With the LeNet-5 solution from the lecture, you should expect a validation set accuracy of about 0.89. To meet specifications, the validation set accuracy will need to be at least 0.93. It is possible to get an even higher accuracy, but 0.93 is the minimum for a successful project submission. \n",
    "\n",
    "There are various aspects to consider when thinking about this problem:\n",
    "\n",
    "- Neural network architecture (is the network over or underfitting?)\n",
    "- Play around preprocessing techniques (normalization, rgb to grayscale, etc)\n",
    "- Number of examples per label (some have more than others).\n",
    "- Generate fake data.\n",
    "\n",
    "Here is an example of a [published baseline model on this problem](http://yann.lecun.com/exdb/publis/pdf/sermanet-ijcnn-11.pdf). It's not required to be familiar with the approach used in the paper but, it's good practice to try to read papers like these."
   ]
  },
  {
   "cell_type": "markdown",
   "metadata": {},
   "source": [
    "### Pre-process the Data Set (normalization, grayscale, etc.)"
   ]
  },
  {
   "cell_type": "markdown",
   "metadata": {},
   "source": [
    "Minimally, the image data should be normalized so that the data has mean zero and equal variance. For image data, `(pixel - 128)/ 128` is a quick way to approximately normalize the data and can be used in this project. \n",
    "\n",
    "Other pre-processing steps are optional. You can try different techniques to see if it improves performance. \n",
    "\n",
    "Use the code cell (or multiple code cells, if necessary) to implement the first step of your project."
   ]
  },
  {
   "cell_type": "code",
   "execution_count": 5,
   "metadata": {},
   "outputs": [],
   "source": [
    "import cv2\n",
    "from sklearn.utils import shuffle"
   ]
  },
  {
   "cell_type": "markdown",
   "metadata": {},
   "source": [
    "RGB to Grayscale:"
   ]
  },
  {
   "cell_type": "code",
   "execution_count": 6,
   "metadata": {},
   "outputs": [
    {
     "data": {
      "text/plain": [
       "Text(0.5,1,'Grayscale')"
      ]
     },
     "execution_count": 6,
     "metadata": {},
     "output_type": "execute_result"
    },
    {
     "data": {
      "image/png": "[encoded data removed]",
      "text/plain": [
       "<Figure size 1080x432 with 2 Axes>"
      ]
     },
     "metadata": {},
     "output_type": "display_data"
    }
   ],
   "source": [
    "def RGB2Gray(x):\n",
    "    return np.sum(x/3, axis=3, keepdims=True)\n",
    "\n",
    "fig, axs = plt.subplots(1, 2, figsize = (15, 6))\n",
    "fig.subplots_adjust(wspace = .1)\n",
    "axs = axs.ravel()\n",
    "\n",
    "axs[0].axis('off')\n",
    "axs[0].imshow(X_train[500])\n",
    "axs[0].set_title('Original')\n",
    "\n",
    "X_train_gray = RGB2Gray(X_train)\n",
    "\n",
    "axs[1].axis('off')\n",
    "axs[1].imshow(np.squeeze(X_train_gray[500]), cmap = 'gray')\n",
    "axs[1].set_title('Grayscale')"
   ]
  },
  {
   "cell_type": "markdown",
   "metadata": {},
   "source": [
    "Normalize:"
   ]
  },
  {
   "cell_type": "code",
   "execution_count": 7,
   "metadata": {},
   "outputs": [
    {
     "name": "stdout",
     "output_type": "stream",
     "text": [
      "82.67758903699634\n",
      "-0.35408133564846583\n"
     ]
    },
    {
     "data": {
      "image/png": "[encoded data removed]",
      "text/plain": [
       "<Figure size 1080x432 with 2 Axes>"
      ]
     },
     "metadata": {},
     "output_type": "display_data"
    }
   ],
   "source": [
    "def normalize(x):\n",
    "    return (x - 128.0) / 128.0\n",
    "\n",
    "fig, axs = plt.subplots(1, 2, figsize = (15, 6))\n",
    "fig.subplots_adjust(wspace = .1)\n",
    "axs = axs.ravel()\n",
    "\n",
    "axs[0].axis('off')\n",
    "axs[0].imshow(np.squeeze(X_train_gray[500]), cmap = 'gray')\n",
    "axs[0].set_title('Grayscale')\n",
    "\n",
    "X_train_normalized = normalize(X_train_gray)\n",
    "\n",
    "axs[1].axis('off')\n",
    "axs[1].imshow(np.squeeze(X_train_normalized[500]), cmap = 'gray')\n",
    "axs[1].set_title('Normalized')\n",
    "\n",
    "print(np.mean(X_train_gray))\n",
    "print(np.mean(X_train_normalized))"
   ]
  },
  {
   "cell_type": "markdown",
   "metadata": {},
   "source": [
    "Rotate:"
   ]
  },
  {
   "cell_type": "code",
   "execution_count": 8,
   "metadata": {},
   "outputs": [
    {
     "data": {
      "text/plain": [
       "Text(0.5,1,'Rotated')"
      ]
     },
     "execution_count": 8,
     "metadata": {},
     "output_type": "execute_result"
    },
    {
     "data": {
      "image/png": "[encoded data removed]",
      "text/plain": [
       "<Figure size 1080x432 with 2 Axes>"
      ]
     },
     "metadata": {},
     "output_type": "display_data"
    }
   ],
   "source": [
    "def rotate(x, angle): \n",
    "    rotate_x = []\n",
    "    \n",
    "    if len(x.shape) == 4:\n",
    "        for img in x:\n",
    "            rows,cols,_ = img.shape\n",
    "            rand_angle = random.uniform(-angle, angle)          \n",
    "            M = cv2.getRotationMatrix2D((cols/2,rows/2),rand_angle,1)\n",
    "            dst = cv2.warpAffine(img,M,(cols,rows))\n",
    "            rotate_x.append(dst)\n",
    "    else:\n",
    "        rows,cols,_ = x.shape\n",
    "        rand_angle = random.uniform(-angle, angle)          \n",
    "        M = cv2.getRotationMatrix2D((cols/2,rows/2),rand_angle,1)\n",
    "        dst = cv2.warpAffine(x,M,(cols,rows))\n",
    "        rotate_x = dst\n",
    "        \n",
    "    rotate_x = np.expand_dims(rotate_x, axis = 3)\n",
    "\n",
    "    return rotate_x\n",
    "\n",
    "fig, axs = plt.subplots(1, 2, figsize = (15, 6))\n",
    "fig.subplots_adjust(wspace = .1)\n",
    "axs = axs.ravel()\n",
    "\n",
    "axs[0].axis('off')\n",
    "axs[0].imshow(np.squeeze(X_train_normalized[500]), cmap = 'gray')\n",
    "axs[0].set_title('Normalized')\n",
    "\n",
    "X_train_rotated = rotate(X_train_normalized, 15)\n",
    "\n",
    "axs[1].axis('off')\n",
    "axs[1].imshow(np.squeeze(X_train_rotated[500]), cmap = 'gray')\n",
    "axs[1].set_title('Rotated')\n"
   ]
  },
  {
   "cell_type": "markdown",
   "metadata": {},
   "source": [
    "Translate:"
   ]
  },
  {
   "cell_type": "code",
   "execution_count": 9,
   "metadata": {},
   "outputs": [
    {
     "data": {
      "text/plain": [
       "Text(0.5,1,'Translated')"
      ]
     },
     "execution_count": 9,
     "metadata": {},
     "output_type": "execute_result"
    },
    {
     "data": {
      "image/png": "[encoded data removed]",
      "text/plain": [
       "<Figure size 1080x432 with 2 Axes>"
      ]
     },
     "metadata": {},
     "output_type": "display_data"
    }
   ],
   "source": [
    "def translate(x, shift): \n",
    "    translate_x = []\n",
    "    if len(x.shape) == 4:\n",
    "        for img in x:\n",
    "            rows,cols,_ = img.shape\n",
    "            rand_shift = random.uniform(-shift, shift)          \n",
    "            M = np.float32([[1,0,rand_shift],[0,1,rand_shift]])\n",
    "            dst = cv2.warpAffine(img,M,(cols,rows))\n",
    "            translate_x.append(dst)\n",
    "    else:\n",
    "        rows,cols,_ = x.shape\n",
    "        rand_shift = random.uniform(-shift, shift)          \n",
    "        M = np.float32([[1,0,rand_shift],[0,1,rand_shift]])\n",
    "        dst = cv2.warpAffine(x,M,(cols,rows))\n",
    "        translate_x = dst\n",
    "        \n",
    "    translate_x = np.expand_dims(translate_x, axis = 3)\n",
    "        \n",
    "    return translate_x\n",
    "\n",
    "fig, axs = plt.subplots(1, 2, figsize = (15, 6))\n",
    "fig.subplots_adjust(wspace = .1)\n",
    "axs = axs.ravel()\n",
    "\n",
    "axs[0].axis('off')\n",
    "axs[0].imshow(np.squeeze(X_train_rotated[500]), cmap = 'gray')\n",
    "axs[0].set_title('Rotated')\n",
    "\n",
    "X_train_translated = translate(X_train_rotated, 3)\n",
    "\n",
    "axs[1].axis('off')\n",
    "axs[1].imshow(np.squeeze(X_train_translated[500]), cmap = 'gray')\n",
    "axs[1].set_title('Translated')"
   ]
  },
  {
   "cell_type": "markdown",
   "metadata": {},
   "source": [
    "Random brightness:"
   ]
  },
  {
   "cell_type": "code",
   "execution_count": 10,
   "metadata": {},
   "outputs": [
    {
     "data": {
      "text/plain": [
       "Text(0.5,1,'Random Brightness')"
      ]
     },
     "execution_count": 10,
     "metadata": {},
     "output_type": "execute_result"
    },
    {
     "data": {
      "image/png": "[encoded data removed]",
      "text/plain": [
       "<Figure size 1080x432 with 2 Axes>"
      ]
     },
     "metadata": {},
     "output_type": "display_data"
    }
   ],
   "source": [
    "def brightness(x):\n",
    "    \n",
    "    alpha = random.uniform(1.1, 1.2)\n",
    "    beta = random.uniform(-0.1, 0.1)\n",
    "    brightness_x = []\n",
    "    \n",
    "    if len(x.shape) == 4:\n",
    "        for img in x:\n",
    "            brightness = np.clip(img * alpha + beta, -1.0, 1.0)\n",
    "            brightness_x.append(brightness)\n",
    "    else:\n",
    "        brightness = np.clip(x * alpha + beta, -1.0, 1.0)\n",
    "        brightness_x = brightness\n",
    "        \n",
    "    return brightness_x\n",
    "\n",
    "fig, axs = plt.subplots(1, 2, figsize = (15, 6))\n",
    "fig.subplots_adjust(wspace = .1)\n",
    "axs = axs.ravel()\n",
    "\n",
    "axs[0].axis('off')\n",
    "axs[0].imshow(np.squeeze(X_train_translated[500]), cmap = 'gray')\n",
    "axs[0].set_title('Translated')\n",
    "\n",
    "X_train_brightness = brightness(X_train_translated)\n",
    "\n",
    "axs[1].axis('off')\n",
    "axs[1].imshow(np.squeeze(X_train_brightness[500]), cmap = 'gray')\n",
    "axs[1].set_title('Random Brightness')"
   ]
  },
  {
   "cell_type": "markdown",
   "metadata": {},
   "source": [
    "Pipeline:"
   ]
  },
  {
   "cell_type": "code",
   "execution_count": 11,
   "metadata": {},
   "outputs": [
    {
     "data": {
      "text/plain": [
       "Text(0.5,1,'After Pipeline')"
      ]
     },
     "execution_count": 11,
     "metadata": {},
     "output_type": "execute_result"
    },
    {
     "data": {
      "image/png": "[encoded data removed]",
      "text/plain": [
       "<Figure size 1080x432 with 2 Axes>"
      ]
     },
     "metadata": {},
     "output_type": "display_data"
    }
   ],
   "source": [
    "def pipeline(x, angle, shift, normalized):\n",
    "    if not normalized:\n",
    "        x = RGB2Gray(x)\n",
    "        x = normalize(x)\n",
    "    x = rotate(x, angle)\n",
    "    x = translate(x, shift)\n",
    "    x = brightness(x)\n",
    "    \n",
    "    return x\n",
    "\n",
    "fig, axs = plt.subplots(1, 2, figsize = (15, 6))\n",
    "fig.subplots_adjust(wspace = .1)\n",
    "axs = axs.ravel()\n",
    "\n",
    "index = random.randint(0, len(X_train))\n",
    "\n",
    "axs[0].axis('off')\n",
    "axs[0].imshow(np.squeeze(X_train[index]), cmap = 'gray')\n",
    "axs[0].set_title('Original')\n",
    "\n",
    "X_train_pipeline = pipeline(X_train, 15, 3, False)\n",
    "\n",
    "axs[1].axis('off')\n",
    "axs[1].imshow(np.squeeze(X_train_pipeline[index]), cmap = 'gray')\n",
    "axs[1].set_title('After Pipeline')"
   ]
  },
  {
   "cell_type": "code",
   "execution_count": 12,
   "metadata": {},
   "outputs": [
    {
     "name": "stderr",
     "output_type": "stream",
     "text": [
      "/home/pedrohrpbs/anaconda3/lib/python3.6/site-packages/ipykernel_launcher.py:18: DeprecationWarning: Both axis > a.ndim and axis < -a.ndim - 1 are deprecated and will raise an AxisError in the future.\n",
      "/home/pedrohrpbs/anaconda3/lib/python3.6/site-packages/ipykernel_launcher.py:17: DeprecationWarning: Both axis > a.ndim and axis < -a.ndim - 1 are deprecated and will raise an AxisError in the future.\n"
     ]
    },
    {
     "data": {
      "image/png": "[encoded data removed]",
      "text/plain": [
       "<Figure size 432x288 with 1 Axes>"
      ]
     },
     "metadata": {},
     "output_type": "display_data"
    }
   ],
   "source": [
    "angle = 15.0\n",
    "shift = 3.0\n",
    "\n",
    "X_train_new = X_train_pipeline[:]\n",
    "\n",
    "y_train_new = y_train.tolist()\n",
    "\n",
    "for n_class in range(n_classes):\n",
    "    #Numero da classe atual\n",
    "    #n_class = 0\n",
    "    #Array que mostra todos os indices com o valor da classe\n",
    "    class_array_index = np.where(np.asarray(y_train_new) == n_class)\n",
    "    while len(np.where(np.asarray(y_train_new) == n_class)[0]) < np.max(np.bincount(y_train)):\n",
    "        \n",
    "        #Random index - para pegar uma imagem aleatoria da classe\n",
    "        index = random.randint(0, len(class_array_index[0])-1)\n",
    "        #Imagem aleatoria da classe\n",
    "        img_index = class_array_index[0][index]\n",
    "        #Imagem aletoria passa pelo pipeline para gerar uma nova imagem\n",
    "        new_img = pipeline(X_train_normalized[img_index], angle, shift, True)\n",
    "        #Adiciona nova imagem ao final dos dados de Treino\n",
    "        X_train_new.append(new_img)\n",
    "        #Adiciona classe da nova imagem aos dados de Treino\n",
    "        y_train_new.append(n_class)\n",
    "\n",
    "plt.hist(y_train_new, bins = n_classes, rwidth = 0.8)\n",
    "plt.title(\"Distribution of Classes in Training\")\n",
    "plt.show()"
   ]
  },
  {
   "cell_type": "code",
   "execution_count": 62,
   "metadata": {},
   "outputs": [
    {
     "name": "stdout",
     "output_type": "stream",
     "text": [
      "(34799, 32, 32, 1)\n",
      "(86430, 32, 32, 1)\n",
      "(34799,)\n",
      "(86430,)\n"
     ]
    },
    {
     "data": {
      "image/png": "[encoded data removed]",
      "text/plain": [
       "<Figure size 432x288 with 1 Axes>"
      ]
     },
     "metadata": {},
     "output_type": "display_data"
    },
    {
     "name": "stdout",
     "output_type": "stream",
     "text": [
      "42\n",
      "9875\n"
     ]
    }
   ],
   "source": [
    "print(np.asarray(X_train_pipeline).shape)\n",
    "print(np.asarray(X_train_new).shape)\n",
    "print(np.asarray(y_train).shape)\n",
    "print(np.asarray(y_train_new).shape)\n",
    "\n",
    "randoom = random.randint(0, 86429)\n",
    "\n",
    "plt.imshow(X_train_new[randoom].squeeze(), cmap='gray')\n",
    "plt.show()\n",
    "print(y_train_new[randoom])\n",
    "print(randoom)"
   ]
  },
  {
   "cell_type": "code",
   "execution_count": 82,
   "metadata": {},
   "outputs": [],
   "source": [
    "X_valid_new = RGB2Gray(normalize(X_valid))\n",
    "X_test_new = RGB2Gray(normalize(X_test))"
   ]
  },
  {
   "cell_type": "markdown",
   "metadata": {},
   "source": [
    "### Model Architecture"
   ]
  },
  {
   "cell_type": "code",
   "execution_count": 113,
   "metadata": {},
   "outputs": [],
   "source": [
    "### Define your architecture here.\n",
    "### Feel free to use as many code cells as needed.\n",
    "import tensorflow as tf\n",
    "from tensorflow.contrib.layers import flatten\n",
    "\n",
    "EPOCHS = 30\n",
    "BATCH_SIZE = 128\n",
    "\n",
    "def Model(x):\n",
    "    \n",
    "    mu = 0\n",
    "    sigma = 0.1\n",
    "    keep_prob = 0.5\n",
    "    \n",
    "    #Preprocess - Input 32x32x1 - Output = 32x32x8\n",
    "    pp_W = tf.Variable(tf.truncated_normal((1, 1, 1, 8), mean=mu, stddev=sigma))\n",
    "    pp_b = tf.Variable(tf.zeros(8))\n",
    "    pp = tf.nn.conv2d(x, pp_W, strides = [1, 1, 1, 1], padding = 'SAME') + pp_b\n",
    "    \n",
    "    #Conv1 - Input = 32x32x8 - Output = 32x32x32\n",
    "    conv1_W = tf.Variable(tf.truncated_normal((5, 5, 8, 32), mean=mu, stddev=sigma))\n",
    "    conv1_b = tf.Variable(tf.zeros(32))\n",
    "    conv1 = tf.nn.conv2d(pp, conv1_W, strides = [1, 1, 1, 1], padding = 'SAME') + conv1_b\n",
    "    \n",
    "    #Pooling - Input = 32x32x32 - Output = 16x16x32\n",
    "    mp1 = tf.nn.max_pool(conv1, ksize = [1, 2, 2, 1], strides = [1, 2, 2, 1], padding = 'VALID')\n",
    "    \n",
    "    #Dense block - Input = 16x16x32 - Output = 16x16x96\n",
    "    db2 = tf.layers.dense(mp1, 96, activation=tf.nn.relu)\n",
    "    \n",
    "    #Pooling - Input = 16x16x96 - Output = 8x8x96\n",
    "    mp2 = tf.nn.max_pool(db2, ksize = [1, 2, 2, 1], strides = [1, 2, 2, 1], padding = 'VALID')\n",
    "    \n",
    "    #Dense block - Input = 8x8x96 - Output = 8x8x192\n",
    "    db3 = tf.layers.dense(mp2, 192, activation=tf.nn.relu)\n",
    "    \n",
    "    #Dropout - Input = 8x8x192 - Output = 8x8x192\n",
    "    dpout3 = tf.nn.dropout(db3, keep_prob)\n",
    "    \n",
    "    #Pooling - Input = 8x8x192 - Output = 4x4x192\n",
    "    mp3 = tf.nn.max_pool(dpout3, ksize = [1, 2, 2, 1], strides = [1, 2, 2, 1], padding = 'VALID')\n",
    "    \n",
    "    #Dense block - Input = 4x4x192 - Output = 4x4x320\n",
    "    db4 = tf.layers.dense(mp3, 320, activation=tf.nn.relu)\n",
    "    \n",
    "    #Conv4 - Input = 4x4x320 - Output = 4x4x43\n",
    "    conv4_W = tf.Variable(tf.truncated_normal((1, 1, 320, 43), mean=mu, stddev=sigma))\n",
    "    conv4_b = tf.Variable(tf.zeros(43))\n",
    "    conv4 = tf.nn.conv2d(db4, conv4_W, strides = [1, 1, 1, 1], padding = 'SAME') + conv4_b\n",
    "    \n",
    "    #Dropout - Input = 4x4x43 - Output = 4x4x43\n",
    "    dpout4 = tf.nn.dropout(conv4, keep_prob)\n",
    "    \n",
    "    #Pooling - Input = 4x4x43 - Output = 1x1x43\n",
    "    ap4 = tf.nn.avg_pool(dpout4, ksize = [1, 4, 4, 1], strides = [1, 4, 4, 1], padding = 'VALID')\n",
    "    \n",
    "    #Flatten\n",
    "    logits = flatten(ap4)\n",
    "    \n",
    "    return logits\n",
    "\n",
    "def LeNet3(x):\n",
    "    mu = 0\n",
    "    sigma = 0.1\n",
    "    \n",
    "    #Layer 1: Convolutional. Input = 32x32x1. Output = 28x28x6.\n",
    "    conv1_W = tf.Variable(tf.truncated_normal((5, 5, 1, 6), mean = mu, stddev = sigma))\n",
    "    conv1_b = tf.Variable(tf.zeros(6))\n",
    "    conv1 = tf.nn.conv2d(x, conv1_W, strides = [1, 1, 1, 1], padding = 'VALID') + conv1_b\n",
    "    \n",
    "    #Activation.\n",
    "    conv1 = tf.nn.relu(conv1)\n",
    "    print(conv1.shape)\n",
    "    #Pooling. Input = 28x28x6. Output = 14x14x6.\n",
    "    conv1 = tf.nn.max_pool(conv1, ksize = [1, 2, 2, 1], strides = [1, 2, 2, 1], padding = 'VALID')\n",
    "    print(conv1.shape)\n",
    "\n",
    "    #Layer 2: Convolutional. Output = 10x10x16.\n",
    "    conv2_W = tf.Variable(tf.truncated_normal((5, 5, 6, 16), mean = mu, stddev = sigma))\n",
    "    conv2_b = tf.Variable(tf.zeros(16))\n",
    "    conv2 = tf.nn.conv2d(conv1, conv2_W, strides = [1, 1, 1, 1], padding = 'VALID') + conv2_b\n",
    "    print(conv2.shape)\n",
    "    #Activation.\n",
    "    conv2 = tf.nn.relu(conv2)\n",
    "    \n",
    "    #Pooling. Input = 10x10x16. Output = 5x5x16.\n",
    "    conv2 = tf.nn.max_pool(conv2, ksize = [1, 2, 2, 1], strides = [1, 2, 2, 1], padding = 'VALID')\n",
    "    print(conv2.shape)\n",
    "    #Convolutional.  Input = 5x5x16. Output = 1x1x1176.\n",
    "    conv3_W = tf.Variable(tf.truncated_normal((5, 5, 16, 1176), mean = mu, stddev = sigma))\n",
    "    conv3_b = tf.Variable(tf.zeros(1176))\n",
    "    conv3 = tf.nn.conv2d(conv2, conv3_W, strides = [1, 1, 1, 1], padding = 'VALID') + conv3_b\n",
    "    print(conv3.shape)\n",
    "    # TODO: Activation.\n",
    "    conv3 = tf.nn.relu(conv3)\n",
    "    \n",
    "    #Flatten\n",
    "    fc0 = flatten(conv1)\n",
    "    print(\"FC0\", fc0.shape)\n",
    "    fc1 = flatten(conv3)\n",
    "    print(\"FC1\", fc1.shape)\n",
    "    fc = tf.concat([fc0, fc1], axis=1)\n",
    "    print(fc.shape)\n",
    "    #Convolutional. Input = 2352. Output = 43.\n",
    "    conv4_W = tf.Variable(tf.truncated_normal((2352, 43), mean = mu, stddev = sigma))\n",
    "    conv4_b = tf.Variable(tf.zeros(43))\n",
    "    logits = tf.matmul(fc, conv4_W) + conv4_b\n",
    "    print(logits)\n",
    "    return logits\n",
    "\n",
    "def LeNet2(x):    \n",
    "    # Hyperparameters\n",
    "    mu = 0\n",
    "    sigma = 0.1\n",
    "    \n",
    "    # TODO: Layer 1: Convolutional. Input = 32x32x1. Output = 28x28x6.\n",
    "    W1 = tf.Variable(tf.truncated_normal(shape=(5, 5, 1, 6), mean = mu, stddev = sigma), name=\"W1\")\n",
    "    x = tf.nn.conv2d(x, W1, strides=[1, 1, 1, 1], padding='VALID')\n",
    "    b1 = tf.Variable(tf.zeros(6), name=\"b1\")\n",
    "    x = tf.nn.bias_add(x, b1)\n",
    "    print(\"layer 1 shape:\",x.get_shape())\n",
    "\n",
    "    # TODO: Activation.\n",
    "    x = tf.nn.relu(x)\n",
    "    \n",
    "    # TODO: Pooling. Input = 28x28x6. Output = 14x14x6.\n",
    "    x = tf.nn.max_pool(x, ksize=[1, 2, 2, 1], strides=[1, 2, 2, 1], padding='VALID')\n",
    "    layer1 = x\n",
    "    \n",
    "    # TODO: Layer 2: Convolutional. Output = 10x10x16.\n",
    "    W2 = tf.Variable(tf.truncated_normal(shape=(5, 5, 6, 16), mean = mu, stddev = sigma), name=\"W2\")\n",
    "    x = tf.nn.conv2d(x, W2, strides=[1, 1, 1, 1], padding='VALID')\n",
    "    b2 = tf.Variable(tf.zeros(16), name=\"b2\")\n",
    "    x = tf.nn.bias_add(x, b2)\n",
    "                     \n",
    "    # TODO: Activation.\n",
    "    x = tf.nn.relu(x)\n",
    "\n",
    "    # TODO: Pooling. Input = 10x10x16. Output = 5x5x16.\n",
    "    x = tf.nn.max_pool(x, ksize=[1, 2, 2, 1], strides=[1, 2, 2, 1], padding='VALID')\n",
    "    layer2 = x\n",
    "    \n",
    "    # TODO: Layer 3: Convolutional. Output = 1x1x400.\n",
    "    W3 = tf.Variable(tf.truncated_normal(shape=(5, 5, 16, 400), mean = mu, stddev = sigma), name=\"W3\")\n",
    "    x = tf.nn.conv2d(x, W3, strides=[1, 1, 1, 1], padding='VALID')\n",
    "    b3 = tf.Variable(tf.zeros(400), name=\"b3\")\n",
    "    x = tf.nn.bias_add(x, b3)\n",
    "                     \n",
    "    # TODO: Activation.\n",
    "    x = tf.nn.relu(x)\n",
    "    layer3 = x\n",
    "\n",
    "    # TODO: Flatten. Input = 5x5x16. Output = 400.\n",
    "    layer2flat = flatten(layer2)\n",
    "    print(\"layer2flat shape:\",layer2flat.get_shape())\n",
    "    \n",
    "    # Flatten x. Input = 1x1x400. Output = 400.\n",
    "    xflat = flatten(x)\n",
    "    print(\"xflat shape:\",xflat.get_shape())\n",
    "    \n",
    "    # Concat layer2flat and x. Input = 400 + 400. Output = 800\n",
    "    x = tf.concat([xflat, layer2flat], 1)\n",
    "    print(\"x shape:\",x.get_shape())\n",
    "    \n",
    "    # Dropout\n",
    "    x = tf.nn.dropout(x, keep_prob=0.5)\n",
    "    \n",
    "    # TODO: Layer 4: Fully Connected. Input = 800. Output = 43.\n",
    "    W4 = tf.Variable(tf.truncated_normal(shape=(800, 43), mean = mu, stddev = sigma), name=\"W4\")\n",
    "    b4 = tf.Variable(tf.zeros(43), name=\"b4\")    \n",
    "    logits = tf.add(tf.matmul(x, W4), b4)\n",
    "    \n",
    "    # TODO: Activation.\n",
    "    #x = tf.nn.relu(x)\n",
    "\n",
    "    # TODO: Layer 5: Fully Connected. Input = 120. Output = 84.\n",
    "    #W5 = tf.Variable(tf.truncated_normal(shape=(120, 84), mean = mu, stddev = sigma))\n",
    "    #b5 = tf.Variable(tf.zeros(84)) \n",
    "    #x = tf.add(tf.matmul(x, W5), b5)\n",
    "    \n",
    "    # TODO: Activation.\n",
    "    #x = tf.nn.relu(x)\n",
    "\n",
    "    # TODO: Layer 6: Fully Connected. Input = 84. Output = 43.\n",
    "    #W6 = tf.Variable(tf.truncated_normal(shape=(84, 43), mean = mu, stddev = sigma))\n",
    "    #b6 = tf.Variable(tf.zeros(43)) \n",
    "    #logits = tf.add(tf.matmul(x, W6), b6)\n",
    "    \n",
    "    return logits\n",
    "\n",
    "def LeNet(x):    \n",
    "    # Arguments used for tf.truncated_normal, randomly defines variables for the weights and biases for each layer\n",
    "    mu = 0\n",
    "    sigma = 0.1\n",
    "    \n",
    "    #Layer 1: Convolutional. Input = 32x32x1. Output = 28x28x6.\n",
    "    conv1_W = tf.Variable(tf.truncated_normal((5, 5, 1, 6), mean = mu, stddev = sigma))\n",
    "    conv1_b = tf.Variable(tf.zeros(6))\n",
    "    conv1 = tf.nn.conv2d(x, conv1_W, strides = [1, 1, 1, 1], padding = 'VALID') + conv1_b\n",
    "    \n",
    "    #Activation.\n",
    "    conv1 = tf.nn.relu(conv1)\n",
    "    \n",
    "    # Pooling. Input = 28x28x6. Output = 14x14x6.\n",
    "    conv1 = tf.nn.max_pool(conv1, ksize = [1, 2, 2, 1], strides = [1, 2, 2, 1], padding = 'VALID')\n",
    "    \n",
    "    #Layer 2: Convolutional. Output = 10x10x16.\n",
    "    conv2_W = tf.Variable(tf.truncated_normal((5, 5, 6, 16), mean = mu, stddev = sigma))\n",
    "    conv2_b = tf.Variable(tf.zeros(16))\n",
    "    conv2 = tf.nn.conv2d(conv1, conv2_W, strides = [1, 1, 1, 1], padding = 'VALID') + conv2_b\n",
    "    \n",
    "    # Activation.\n",
    "    conv2 = tf.nn.relu(conv2)\n",
    "    \n",
    "    # Pooling. Input = 10x10x16. Output = 5x5x16.\n",
    "    conv2 = tf.nn.max_pool(conv2, ksize = [1, 2, 2, 1], strides = [1, 2, 2, 1], padding = 'VALID')\n",
    "    \n",
    "    #Flatten. Input = 5x5x16. Output = 400.\n",
    "    fc0 = tf.contrib.layers.flatten(conv2)\n",
    "    \n",
    "    #Layer 3: Fully Connected. Input = 400. Output = 120.\n",
    "    fc1_W = tf.Variable(tf.truncated_normal((400, 120), mean = mu, stddev = sigma))\n",
    "    fc1_b = tf.Variable(tf.zeros(120))\n",
    "    fc1 = tf.matmul(fc0, fc1_W) + fc1_b\n",
    "                        \n",
    "    #Activation.\n",
    "    fc1 = tf.nn.relu(fc1)\n",
    "                        \n",
    "    #Layer 4: Fully Connected. Input = 120. Output = 84.\n",
    "    fc2_W = tf.Variable(tf.truncated_normal((120, 84), mean = mu, stddev = sigma))\n",
    "    fc2_b = tf.Variable(tf.zeros(84))\n",
    "    fc2 = tf.matmul(fc1, fc2_W) + fc2_b\n",
    "    \n",
    "    #Activation.\n",
    "    fc2 = tf.nn.relu(fc2)\n",
    "    \n",
    "    #Layer 5: Fully Connected. Input = 84. Output = 43.\n",
    "    fc3_W = tf.Variable(tf.truncated_normal((84, 43), mean = mu, stddev = sigma))\n",
    "    fc3_b = tf.Variable(tf.zeros(43))\n",
    "    logits = tf.matmul(fc2, fc3_W) + fc3_b\n",
    "    \n",
    "    return logits"
   ]
  },
  {
   "cell_type": "markdown",
   "metadata": {},
   "source": [
    "### Train, Validate and Test the Model"
   ]
  },
  {
   "cell_type": "markdown",
   "metadata": {},
   "source": [
    "A validation set can be used to assess how well the model is performing. A low accuracy on the training and validation\n",
    "sets imply underfitting. A high accuracy on the training set but low accuracy on the validation set implies overfitting."
   ]
  },
  {
   "cell_type": "code",
   "execution_count": 114,
   "metadata": {},
   "outputs": [],
   "source": [
    "### Train your model here.\n",
    "### Calculate and report the accuracy on the training and validation set.\n",
    "### Once a final model architecture is selected, \n",
    "### the accuracy on the test set should be calculated and reported as well.\n",
    "### Feel free to use as many code cells as needed.\n",
    "\n",
    "x = tf.placeholder(tf.float32, (None, 32, 32, 1))\n",
    "y = tf.placeholder(tf.int32, (None))\n",
    "one_hot_y = tf.one_hot(y, 43)"
   ]
  },
  {
   "cell_type": "markdown",
   "metadata": {},
   "source": [
    "### Training Pipeline"
   ]
  },
  {
   "cell_type": "code",
   "execution_count": 115,
   "metadata": {},
   "outputs": [
    {
     "name": "stdout",
     "output_type": "stream",
     "text": [
      "(?, 28, 28, 6)\n",
      "(?, 14, 14, 6)\n",
      "(?, 10, 10, 16)\n",
      "(?, 5, 5, 16)\n",
      "(?, 1, 1, 1176)\n",
      "FC0 (?, 1176)\n",
      "FC1 (?, 1176)\n",
      "(?, 2352)\n",
      "Tensor(\"add_34:0\", shape=(?, 43), dtype=float32)\n"
     ]
    }
   ],
   "source": [
    "rate = 0.001\n",
    "\n",
    "logits = LeNet3(x)\n",
    "cross_entropy = tf.nn.softmax_cross_entropy_with_logits_v2(labels = one_hot_y, logits = logits)\n",
    "loss_operation = tf.reduce_mean(cross_entropy)\n",
    "optimizer = tf.train.AdamOptimizer(learning_rate = rate) \n",
    "training_operation = optimizer.minimize(loss = loss_operation)"
   ]
  },
  {
   "cell_type": "markdown",
   "metadata": {},
   "source": [
    "### Model Evaluation"
   ]
  },
  {
   "cell_type": "code",
   "execution_count": 116,
   "metadata": {},
   "outputs": [],
   "source": [
    "correct_prediction = tf.equal(tf.argmax(logits, 1), tf.argmax(one_hot_y, 1))\n",
    "accuracy_operation = tf.reduce_mean(tf.cast(correct_prediction, tf.float32))\n",
    "saver = tf.train.Saver()\n",
    "\n",
    "def evaluate(X_data, y_data):\n",
    "    num_examples = len(X_data)\n",
    "    total_accuracy = 0 \n",
    "    for offset in range(0, num_examples, BATCH_SIZE):\n",
    "        batch_x, batch_y = X_data[offset:offset + BATCH_SIZE], y_data[offset:offset+BATCH_SIZE]\n",
    "        accuracy = sess.run(accuracy_operation, feed_dict={x: batch_x, y: batch_y})\n",
    "        total_accuracy += accuracy * len(batch_x)\n",
    "    return total_accuracy / num_examples"
   ]
  },
  {
   "cell_type": "markdown",
   "metadata": {},
   "source": [
    "### Train the Model"
   ]
  },
  {
   "cell_type": "code",
   "execution_count": 117,
   "metadata": {},
   "outputs": [
    {
     "name": "stdout",
     "output_type": "stream",
     "text": [
      "Training...\n",
      "\n",
      "EPOCH 1 ...\n",
      "Validation accuracy = 0.873\n",
      "\n",
      "EPOCH 2 ...\n",
      "Validation accuracy = 0.886\n",
      "\n",
      "EPOCH 3 ...\n",
      "Validation accuracy = 0.896\n",
      "\n",
      "EPOCH 4 ...\n",
      "Validation accuracy = 0.915\n",
      "\n",
      "EPOCH 5 ...\n",
      "Validation accuracy = 0.916\n",
      "\n",
      "EPOCH 6 ...\n",
      "Validation accuracy = 0.917\n",
      "\n",
      "EPOCH 7 ...\n",
      "Validation accuracy = 0.908\n",
      "\n",
      "EPOCH 8 ...\n",
      "Validation accuracy = 0.926\n",
      "\n",
      "EPOCH 9 ...\n",
      "Validation accuracy = 0.908\n",
      "\n",
      "EPOCH 10 ...\n",
      "Validation accuracy = 0.901\n",
      "\n",
      "EPOCH 11 ...\n",
      "Validation accuracy = 0.920\n",
      "\n",
      "EPOCH 12 ...\n",
      "Validation accuracy = 0.919\n",
      "\n",
      "EPOCH 13 ...\n",
      "Validation accuracy = 0.929\n",
      "\n",
      "EPOCH 14 ...\n",
      "Validation accuracy = 0.931\n",
      "\n",
      "EPOCH 15 ...\n",
      "Validation accuracy = 0.926\n",
      "\n",
      "EPOCH 16 ...\n",
      "Validation accuracy = 0.940\n",
      "\n",
      "EPOCH 17 ...\n",
      "Validation accuracy = 0.933\n",
      "\n",
      "EPOCH 18 ...\n",
      "Validation accuracy = 0.926\n",
      "\n",
      "EPOCH 19 ...\n",
      "Validation accuracy = 0.926\n",
      "\n",
      "EPOCH 20 ...\n",
      "Validation accuracy = 0.937\n",
      "\n",
      "EPOCH 21 ...\n",
      "Validation accuracy = 0.923\n",
      "\n",
      "EPOCH 22 ...\n",
      "Validation accuracy = 0.939\n",
      "\n",
      "EPOCH 23 ...\n",
      "Validation accuracy = 0.925\n",
      "\n",
      "EPOCH 24 ...\n",
      "Validation accuracy = 0.916\n",
      "\n",
      "EPOCH 25 ...\n",
      "Validation accuracy = 0.937\n",
      "\n",
      "EPOCH 26 ...\n",
      "Validation accuracy = 0.929\n",
      "\n",
      "EPOCH 27 ...\n",
      "Validation accuracy = 0.933\n",
      "\n",
      "EPOCH 28 ...\n",
      "Validation accuracy = 0.929\n",
      "\n",
      "EPOCH 29 ...\n",
      "Validation accuracy = 0.930\n",
      "\n",
      "EPOCH 30 ...\n",
      "Validation accuracy = 0.942\n",
      "\n",
      "Model Saved\n"
     ]
    }
   ],
   "source": [
    "with tf.Session() as sess:\n",
    "    sess.run(tf.global_variables_initializer())\n",
    "    num_examples = len(X_train_new)\n",
    "    \n",
    "    print(\"Training...\\n\")\n",
    "    for i in range(EPOCHS):\n",
    "        X_train, y_train = shuffle(X_train_new, y_train_new)\n",
    "        for offset in range(0, num_examples, BATCH_SIZE):\n",
    "            batch_x, batch_y = X_train[offset:offset+BATCH_SIZE], y_train[offset:offset+BATCH_SIZE]\n",
    "            sess.run(training_operation, feed_dict={x: batch_x, y: batch_y})\n",
    "            \n",
    "        validation_accuracy = evaluate(X_valid_new, y_valid)\n",
    "        print(\"EPOCH {} ...\".format(i+1))\n",
    "        print(\"Validation accuracy = {:.3f}\\n\".format(validation_accuracy))\n",
    "    \n",
    "    saver.save(sess, './traffic')    \n",
    "    print(\"Model Saved\")\n",
    "    "
   ]
  },
  {
   "cell_type": "code",
   "execution_count": 118,
   "metadata": {},
   "outputs": [
    {
     "name": "stdout",
     "output_type": "stream",
     "text": [
      "INFO:tensorflow:Restoring parameters from ./traffic\n",
      "Test Accuracy = 0.927\n"
     ]
    }
   ],
   "source": [
    "with tf.Session() as sess:\n",
    "    saver.restore(sess, tf.train.latest_checkpoint('.'))\n",
    "    \n",
    "    test_accuracy = evaluate(X_test_new, y_test)\n",
    "    print(\"Test Accuracy = {:.3f}\".format(test_accuracy))"
   ]
  },
  {
   "cell_type": "markdown",
   "metadata": {},
   "source": [
    "\n",
    "## Step 3: Test a Model on New Images\n",
    "\n",
    "To give yourself more insight into how your model is working, download at least five pictures of German traffic signs from the web and use your model to predict the traffic sign type.\n",
    "\n",
    "You may find `signnames.csv` useful as it contains mappings from the class id (integer) to the actual sign name."
   ]
  },
  {
   "cell_type": "markdown",
   "metadata": {},
   "source": [
    "### Load and Output the Images"
   ]
  },
  {
   "cell_type": "code",
   "execution_count": 134,
   "metadata": {},
   "outputs": [
    {
     "name": "stdout",
     "output_type": "stream",
     "text": [
      "Web samples with labels:\n"
     ]
    },
    {
     "data": {
      "image/png": "[encoded data removed]",
      "text/plain": [
       "<Figure size 1080x432 with 5 Axes>"
      ]
     },
     "metadata": {},
     "output_type": "display_data"
    }
   ],
   "source": [
    "### Load the images and plot them here.\n",
    "### Feel free to use as many code cells as needed.\n",
    "import glob\n",
    "\n",
    "X_web_test = []\n",
    "\n",
    "for i in glob.glob('web_examples/*.jpg'):\n",
    "    img = cv2.imread(i)\n",
    "    img = cv2.cvtColor(img, cv2.COLOR_RGB2BGR)\n",
    "    X_web_test.append(img)\n",
    "\n",
    "X_web_test = RGB2Gray(normalize(np.asarray(X_web_test)))\n",
    "y_web_test = np.array([13, 33, 17, 4, 25])\n",
    "\n",
    "fig, axs = plt.subplots(1, 5, figsize = (15, 6))\n",
    "fig.subplots_adjust(wspace = .1)\n",
    "axs = axs.ravel()\n",
    "\n",
    "print(\"Web samples with labels:\")\n",
    "for i in range(5):\n",
    "    axs[i].axis('off')\n",
    "    axs[i].imshow(X_web_test[i].squeeze(), cmap='gray')\n",
    "    axs[i].set_title(y_web_test[i])"
   ]
  },
  {
   "cell_type": "markdown",
   "metadata": {},
   "source": [
    "### Predict the Sign Type for Each Image"
   ]
  },
  {
   "cell_type": "code",
   "execution_count": null,
   "metadata": {},
   "outputs": [],
   "source": [
    "### Run the predictions here and use the model to output the prediction for each image.\n",
    "### Make sure to pre-process the images with the same pre-processing pipeline used earlier.\n",
    "### Feel free to use as many code cells as needed."
   ]
  },
  {
   "cell_type": "markdown",
   "metadata": {},
   "source": [
    "### Analyze Performance"
   ]
  },
  {
   "cell_type": "code",
   "execution_count": 135,
   "metadata": {},
   "outputs": [
    {
     "name": "stdout",
     "output_type": "stream",
     "text": [
      "INFO:tensorflow:Restoring parameters from ./traffic\n",
      "Test Accuracy = 0.800\n"
     ]
    }
   ],
   "source": [
    "### Calculate the accuracy for these 5 new images. \n",
    "### For example, if the model predicted 1 out of 5 signs correctly, it's 20% accurate on these new images.\n",
    "with tf.Session() as sess:\n",
    "    saver.restore(sess, tf.train.latest_checkpoint('.'))\n",
    "    test_accuracy = evaluate(X_web_test, y_web_test)\n",
    "    print(\"Test Accuracy = {:.3f}\".format(test_accuracy))"
   ]
  },
  {
   "cell_type": "markdown",
   "metadata": {},
   "source": [
    "### Output Top 5 Softmax Probabilities For Each Image Found on the Web"
   ]
  },
  {
   "cell_type": "markdown",
   "metadata": {},
   "source": [
    "For each of the new images, print out the model's softmax probabilities to show the **certainty** of the model's predictions (limit the output to the top 5 probabilities for each image). [`tf.nn.top_k`](https://www.tensorflow.org/versions/r0.12/api_docs/python/nn.html#top_k) could prove helpful here. \n",
    "\n",
    "The example below demonstrates how tf.nn.top_k can be used to find the top k predictions for each image.\n",
    "\n",
    "`tf.nn.top_k` will return the values and indices (class ids) of the top k predictions. So if k=3, for each sign, it'll return the 3 largest probabilities (out of a possible 43) and the correspoding class ids.\n",
    "\n",
    "Take this numpy array as an example. The values in the array represent predictions. The array contains softmax probabilities for five candidate images with six possible classes. `tf.nn.top_k` is used to choose the three classes with the highest probability:\n",
    "\n",
    "```\n",
    "# (5, 6) array\n",
    "a = np.array([[ 0.24879643,  0.07032244,  0.12641572,  0.34763842,  0.07893497,\n",
    "         0.12789202],\n",
    "       [ 0.28086119,  0.27569815,  0.08594638,  0.0178669 ,  0.18063401,\n",
    "         0.15899337],\n",
    "       [ 0.26076848,  0.23664738,  0.08020603,  0.07001922,  0.1134371 ,\n",
    "         0.23892179],\n",
    "       [ 0.11943333,  0.29198961,  0.02605103,  0.26234032,  0.1351348 ,\n",
    "         0.16505091],\n",
    "       [ 0.09561176,  0.34396535,  0.0643941 ,  0.16240774,  0.24206137,\n",
    "         0.09155967]])\n",
    "```\n",
    "\n",
    "Running it through `sess.run(tf.nn.top_k(tf.constant(a), k=3))` produces:\n",
    "\n",
    "```\n",
    "TopKV2(values=array([[ 0.34763842,  0.24879643,  0.12789202],\n",
    "       [ 0.28086119,  0.27569815,  0.18063401],\n",
    "       [ 0.26076848,  0.23892179,  0.23664738],\n",
    "       [ 0.29198961,  0.26234032,  0.16505091],\n",
    "       [ 0.34396535,  0.24206137,  0.16240774]]), indices=array([[3, 0, 5],\n",
    "       [0, 1, 4],\n",
    "       [0, 5, 1],\n",
    "       [1, 3, 5],\n",
    "       [1, 4, 3]], dtype=int32))\n",
    "```\n",
    "\n",
    "Looking just at the first row we get `[ 0.34763842,  0.24879643,  0.12789202]`, you can confirm these are the 3 largest probabilities in `a`. You'll also notice `[3, 0, 5]` are the corresponding indices."
   ]
  },
  {
   "cell_type": "code",
   "execution_count": 170,
   "metadata": {},
   "outputs": [
    {
     "name": "stdout",
     "output_type": "stream",
     "text": [
      "INFO:tensorflow:Restoring parameters from ./traffic\n",
      "\n",
      "Softmax Probabilities\n"
     ]
    },
    {
     "data": {
      "image/png": "[encoded data removed]",
      "text/plain": [
       "<Figure size 1080x1440 with 10 Axes>"
      ]
     },
     "metadata": {},
     "output_type": "display_data"
    }
   ],
   "source": [
    "### Print out the top five softmax probabilities for the predictions on the German traffic sign images found on the web. \n",
    "### Feel free to use as many code cells as needed.\n",
    "\n",
    "softmax_logits = tf.nn.softmax(logits)\n",
    "top_k = tf.nn.top_k(softmax_logits, k=5)\n",
    "\n",
    "with tf.Session() as sess:\n",
    "    saver.restore(sess, tf.train.latest_checkpoint('.'))\n",
    "    top_predictions = sess.run(top_k, feed_dict={x: X_web_test, y: y_web_test})      \n",
    "    \n",
    "    fig, axs = plt.subplots(5, 2, figsize = (15, 20))\n",
    "    fig.subplots_adjust(hspace = 0.2, wspace = .1)\n",
    "    axs = axs.ravel()\n",
    "\n",
    "    print(\"\\nSoftmax Probabilities\")\n",
    "    \n",
    "    a = 0\n",
    "    for i in range(0, 5):\n",
    "        \n",
    "        axs[a].axis('off')\n",
    "        axs[a].imshow(X_web_test[i].squeeze(), cmap='gray')\n",
    "        axs[a].set_title(y_web_test[i])\n",
    "\n",
    "        axs[a+1].bar(top_predictions[1][i], top_predictions[0][i])\n",
    "        \n",
    "        axs[a+1].set_title(\"Prediction = {}\".format(top_predictions[1][i][0]))\n",
    "        \n",
    "        a += 2\n",
    "    "
   ]
  },
  {
   "cell_type": "markdown",
   "metadata": {},
   "source": [
    "### Project Writeup\n",
    "\n",
    "Once you have completed the code implementation, document your results in a project writeup using this [template](https://github.com/udacity/CarND-Traffic-Sign-Classifier-Project/blob/master/writeup_template.md) as a guide. The writeup can be in a markdown or pdf file. "
   ]
  },
  {
   "cell_type": "markdown",
   "metadata": {},
   "source": [
    "> **Note**: Once you have completed all of the code implementations and successfully answered each question above, you may finalize your work by exporting the iPython Notebook as an HTML document. You can do this by using the menu above and navigating to  \\n\",\n",
    "    \"**File -> Download as -> HTML (.html)**. Include the finished document along with this notebook as your submission."
   ]
  },
  {
   "cell_type": "markdown",
   "metadata": {},
   "source": [
    "---\n",
    "\n",
    "## Step 4 (Optional): Visualize the Neural Network's State with Test Images\n",
    "\n",
    " This Section is not required to complete but acts as an additional excersise for understaning the output of a neural network's weights. While neural networks can be a great learning device they are often referred to as a black box. We can understand what the weights of a neural network look like better by plotting their feature maps. After successfully training your neural network you can see what it's feature maps look like by plotting the output of the network's weight layers in response to a test stimuli image. From these plotted feature maps, it's possible to see what characteristics of an image the network finds interesting. For a sign, maybe the inner network feature maps react with high activation to the sign's boundary outline or to the contrast in the sign's painted symbol.\n",
    "\n",
    " Provided for you below is the function code that allows you to get the visualization output of any tensorflow weight layer you want. The inputs to the function should be a stimuli image, one used during training or a new one you provided, and then the tensorflow variable name that represents the layer's state during the training process, for instance if you wanted to see what the [LeNet lab's](https://classroom.udacity.com/nanodegrees/nd013/parts/fbf77062-5703-404e-b60c-95b78b2f3f9e/modules/6df7ae49-c61c-4bb2-a23e-6527e69209ec/lessons/601ae704-1035-4287-8b11-e2c2716217ad/concepts/d4aca031-508f-4e0b-b493-e7b706120f81) feature maps looked like for it's second convolutional layer you could enter conv2 as the tf_activation variable.\n",
    "\n",
    "For an example of what feature map outputs look like, check out NVIDIA's results in their paper [End-to-End Deep Learning for Self-Driving Cars](https://devblogs.nvidia.com/parallelforall/deep-learning-self-driving-cars/) in the section Visualization of internal CNN State. NVIDIA was able to show that their network's inner weights had high activations to road boundary lines by comparing feature maps from an image with a clear path to one without. Try experimenting with a similar test to show that your trained network's weights are looking for interesting features, whether it's looking at differences in feature maps from images with or without a sign, or even what feature maps look like in a trained network vs a completely untrained one on the same sign image.\n",
    "\n",
    "<figure>\n",
    " <img src=\"visualize_cnn.png\" width=\"380\" alt=\"Combined Image\" />\n",
    " <figcaption>\n",
    " <p></p> \n",
    " <p style=\"text-align: center;\"> Your output should look something like this (above)</p> \n",
    " </figcaption>\n",
    "</figure>\n",
    " <p></p> \n"
   ]
  },
  {
   "cell_type": "code",
   "execution_count": null,
   "metadata": {},
   "outputs": [],
   "source": [
    "### Visualize your network's feature maps here.\n",
    "### Feel free to use as many code cells as needed.\n",
    "\n",
    "# image_input: the test image being fed into the network to produce the feature maps\n",
    "# tf_activation: should be a tf variable name used during your training procedure that represents the calculated state of a specific weight layer\n",
    "# activation_min/max: can be used to view the activation contrast in more detail, by default matplot sets min and max to the actual min and max values of the output\n",
    "# plt_num: used to plot out multiple different weight feature map sets on the same block, just extend the plt number for each new feature map entry\n",
    "\n",
    "def outputFeatureMap(image_input, tf_activation, activation_min=-1, activation_max=-1 ,plt_num=1):\n",
    "    # Here make sure to preprocess your image_input in a way your network expects\n",
    "    # with size, normalization, ect if needed\n",
    "    # image_input =\n",
    "    # Note: x should be the same name as your network's tensorflow data placeholder variable\n",
    "    # If you get an error tf_activation is not defined it may be having trouble accessing the variable from inside a function\n",
    "    activation = tf_activation.eval(session=sess,feed_dict={x : image_input})\n",
    "    featuremaps = activation.shape[3]\n",
    "    plt.figure(plt_num, figsize=(15,15))\n",
    "    for featuremap in range(featuremaps):\n",
    "        plt.subplot(6,8, featuremap+1) # sets the number of feature maps to show on each row and column\n",
    "        plt.title('FeatureMap ' + str(featuremap)) # displays the feature map number\n",
    "        if activation_min != -1 & activation_max != -1:\n",
    "            plt.imshow(activation[0,:,:, featuremap], interpolation=\"nearest\", vmin =activation_min, vmax=activation_max, cmap=\"gray\")\n",
    "        elif activation_max != -1:\n",
    "            plt.imshow(activation[0,:,:, featuremap], interpolation=\"nearest\", vmax=activation_max, cmap=\"gray\")\n",
    "        elif activation_min !=-1:\n",
    "            plt.imshow(activation[0,:,:, featuremap], interpolation=\"nearest\", vmin=activation_min, cmap=\"gray\")\n",
    "        else:\n",
    "            plt.imshow(activation[0,:,:, featuremap], interpolation=\"nearest\", cmap=\"gray\")"
   ]
  }
 ],
 "metadata": {
  "anaconda-cloud": {},
  "kernelspec": {
   "display_name": "Python 3",
   "language": "python",
   "name": "python3"
  },
  "language_info": {
   "codemirror_mode": {
    "name": "ipython",
    "version": 3
   },
   "file_extension": ".py",
   "mimetype": "text/x-python",
   "name": "python",
   "nbconvert_exporter": "python",
   "pygments_lexer": "ipython3",
   "version": "3.6.5"
  }
 },
 "nbformat": 4,
 "nbformat_minor": 1
}
